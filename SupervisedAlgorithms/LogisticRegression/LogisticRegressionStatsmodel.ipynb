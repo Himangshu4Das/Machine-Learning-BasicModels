{
 "cells": [
  {
   "cell_type": "markdown",
   "id": "f2a36679",
   "metadata": {},
   "source": [
    "For more information on logistic regression, read the markdowns from LogisticRegressionSklearn.py"
   ]
  },
  {
   "cell_type": "markdown",
   "id": "0853ae93",
   "metadata": {},
   "source": [
    "### Implementation of logistic regression using statsmodel"
   ]
  },
  {
   "cell_type": "code",
   "execution_count": 1,
   "id": "16c90a3f",
   "metadata": {},
   "outputs": [],
   "source": [
    "import numpy as np\n",
    "import statsmodels.api as sm"
   ]
  },
  {
   "cell_type": "code",
   "execution_count": 3,
   "id": "31ddb02b",
   "metadata": {},
   "outputs": [],
   "source": [
    "# creating dataset\n",
    "x = np.arange(10).reshape(-1, 1)\n",
    "y = np.array([0, 1, 0, 0, 1, 1, 1, 1, 1, 1])\n",
    "\n",
    "# adding column of 1s\n",
    "x = sm.add_constant(x)"
   ]
  },
  {
   "cell_type": "code",
   "execution_count": 4,
   "id": "5b1d64e5",
   "metadata": {},
   "outputs": [
    {
     "name": "stdout",
     "output_type": "stream",
     "text": [
      "Optimization terminated successfully.\n",
      "         Current function value: 0.350471\n",
      "         Iterations 7\n"
     ]
    }
   ],
   "source": [
    "# creating model\n",
    "model = sm.Logit(y, x)\n",
    "\n",
    "# fitting model\n",
    "result = model.fit(method='newton')"
   ]
  },
  {
   "cell_type": "code",
   "execution_count": 7,
   "id": "4fd19430",
   "metadata": {},
   "outputs": [
    {
     "name": "stdout",
     "output_type": "stream",
     "text": [
      "[-1.972805    0.82240094]\n"
     ]
    }
   ],
   "source": [
    "# show intercept b0 and coefficient b1\n",
    "print(result.params)"
   ]
  },
  {
   "cell_type": "code",
   "execution_count": 11,
   "id": "17ecb305",
   "metadata": {},
   "outputs": [
    {
     "name": "stdout",
     "output_type": "stream",
     "text": [
      "[0.12208792 0.24041529 0.41872657 0.62114189 0.78864861 0.89465521\n",
      " 0.95080891 0.97777369 0.99011108 0.99563083]\n",
      "\n",
      "\n",
      "[0 0 0 1 1 1 1 1 1 1]\n"
     ]
    }
   ],
   "source": [
    "# predict on train set\n",
    "\n",
    "# prints the probability\n",
    "print(result.predict(x))\n",
    "print('\\n')\n",
    "# print the actual class\n",
    "print((result.predict(x) >= 0.5).astype(int))"
   ]
  },
  {
   "cell_type": "code",
   "execution_count": 12,
   "id": "68996d58",
   "metadata": {},
   "outputs": [
    {
     "name": "stdout",
     "output_type": "stream",
     "text": [
      "[[2. 1.]\n",
      " [1. 6.]]\n"
     ]
    }
   ],
   "source": [
    "# show confusion matrix\n",
    "print(result.pred_table())"
   ]
  },
  {
   "cell_type": "code",
   "execution_count": 13,
   "id": "3cafead2",
   "metadata": {},
   "outputs": [
    {
     "name": "stdout",
     "output_type": "stream",
     "text": [
      "                           Logit Regression Results                           \n",
      "==============================================================================\n",
      "Dep. Variable:                      y   No. Observations:                   10\n",
      "Model:                          Logit   Df Residuals:                        8\n",
      "Method:                           MLE   Df Model:                            1\n",
      "Date:                Fri, 14 Apr 2023   Pseudo R-squ.:                  0.4263\n",
      "Time:                        03:53:28   Log-Likelihood:                -3.5047\n",
      "converged:                       True   LL-Null:                       -6.1086\n",
      "Covariance Type:            nonrobust   LLR p-value:                   0.02248\n",
      "==============================================================================\n",
      "                 coef    std err          z      P>|z|      [0.025      0.975]\n",
      "------------------------------------------------------------------------------\n",
      "const         -1.9728      1.737     -1.136      0.256      -5.377       1.431\n",
      "x1             0.8224      0.528      1.557      0.119      -0.213       1.858\n",
      "==============================================================================\n"
     ]
    }
   ],
   "source": [
    "# detailed report of the model\n",
    "print(result.summary())"
   ]
  },
  {
   "cell_type": "code",
   "execution_count": null,
   "id": "03386187",
   "metadata": {},
   "outputs": [],
   "source": []
  }
 ],
 "metadata": {
  "kernelspec": {
   "display_name": "Python 3 (ipykernel)",
   "language": "python",
   "name": "python3"
  },
  "language_info": {
   "codemirror_mode": {
    "name": "ipython",
    "version": 3
   },
   "file_extension": ".py",
   "mimetype": "text/x-python",
   "name": "python",
   "nbconvert_exporter": "python",
   "pygments_lexer": "ipython3",
   "version": "3.9.13"
  }
 },
 "nbformat": 4,
 "nbformat_minor": 5
}
