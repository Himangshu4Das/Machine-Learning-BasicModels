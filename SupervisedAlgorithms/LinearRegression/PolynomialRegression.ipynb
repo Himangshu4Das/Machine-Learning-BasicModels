{
 "cells": [
  {
   "cell_type": "markdown",
   "id": "5bea5f58",
   "metadata": {},
   "source": [
    "### What is polinomial regression?\n",
    "You can regard polynomial regression as a generalized case of linear regression. You assume the polynomial dependence between the output and inputs and, consequently, the polynomial estimated regression function.\n",
    "\n",
    "In other words, in addition to linear terms like 𝑏₁𝑥₁, your regression function 𝑓 can include nonlinear terms such as 𝑏₂𝑥₁², 𝑏₃𝑥₁³, or even 𝑏₄𝑥₁𝑥₂, 𝑏₅𝑥₁²𝑥₂.\n",
    "\n",
    "The simplest example of polynomial regression has a single independent variable, and the estimated regression function is a polynomial of degree two: 𝑓(𝑥) = 𝑏₀ + 𝑏₁𝑥 + 𝑏₂𝑥²."
   ]
  },
  {
   "cell_type": "markdown",
   "id": "6d4df3e0",
   "metadata": {},
   "source": [
    "### What difference does it make in creating the estimator?\n",
    "\n",
    "Coding wise? Pretty much no change!\n",
    "Despite inclusion of non-linear terms, our goal remains unchanged. ie. calculate weights 𝑏₀, 𝑏₁, and 𝑏₂ to minimize SSR.\n",
    "The inputs with different degrees can simple considered as a whole input. instead of x<sub>1</sub> we will have the input as x<sub>1</sub><sup>n</sup>"
   ]
  },
  {
   "cell_type": "markdown",
   "id": "a78d65a3",
   "metadata": {},
   "source": [
    "> For more info. on regression, read the markdowns from SimpleLinearRegression.py"
   ]
  },
  {
   "cell_type": "code",
   "execution_count": 1,
   "id": "737604ae",
   "metadata": {},
   "outputs": [],
   "source": [
    "# Import packages\n",
    "import numpy as np\n",
    "from sklearn.linear_model import LinearRegression\n",
    "from sklearn.preprocessing import PolynomialFeatures"
   ]
  },
  {
   "cell_type": "code",
   "execution_count": 12,
   "id": "ba423a85",
   "metadata": {},
   "outputs": [
    {
     "name": "stdout",
     "output_type": "stream",
     "text": [
      "[[   5.   25.]\n",
      " [  15.  225.]\n",
      " [  25.  625.]\n",
      " [  35. 1225.]\n",
      " [  45. 2025.]\n",
      " [  55. 3025.]]\n"
     ]
    }
   ],
   "source": [
    "# Create sample data\n",
    "x = np.array([5, 15, 25, 35, 45, 55]).reshape((-1, 1))  # 2D\n",
    "y = np.array([15, 11, 2, 8, 25, 32])                    # 1D\n",
    "\n",
    "# Converting data to polynomial by using transformer\n",
    "# fit and apply polynomial transformer\n",
    "x_ = PolynomialFeatures(degree=2, include_bias=False).fit_transform(x)\n",
    "\n",
    "# print new data\n",
    "print(x_)"
   ]
  },
  {
   "cell_type": "markdown",
   "id": "afd4ac01",
   "metadata": {},
   "source": [
    "<b>include_bias</b> is a Boolean (True by default) that decides whether to include the bias, or intercept, column of 1 values (True) or not (False)."
   ]
  },
  {
   "cell_type": "code",
   "execution_count": 9,
   "id": "486f8e29",
   "metadata": {},
   "outputs": [],
   "source": [
    "# Create Model and fit\n",
    "model = LinearRegression().fit(x_, y)"
   ]
  },
  {
   "cell_type": "code",
   "execution_count": 11,
   "id": "c6b0d0b7",
   "metadata": {},
   "outputs": [
    {
     "name": "stdout",
     "output_type": "stream",
     "text": [
      "coefficient of determination: 0.8908516262498563\n",
      "intercept: 21.372321428571418\n",
      "coefficients: [-1.32357143  0.02839286]\n"
     ]
    }
   ],
   "source": [
    "# Show R square\n",
    "print(f\"coefficient of determination: {model.score(x_, y)}\")\n",
    "\n",
    "# Show b0\n",
    "print(f\"intercept: {model.intercept_}\")\n",
    "\n",
    "# Show weight b1 and b2 (2D input)\n",
    "print(f\"coefficients: {model.coef_}\")"
   ]
  },
  {
   "cell_type": "code",
   "execution_count": 14,
   "id": "f3d4612b",
   "metadata": {},
   "outputs": [
    {
     "name": "stdout",
     "output_type": "stream",
     "text": [
      "[15.46428571  7.90714286  6.02857143  9.82857143 19.30714286 34.46428571]\n"
     ]
    }
   ],
   "source": [
    "# Predict using train x set\n",
    "y_pred = model.predict(x_)\n",
    "print(y_pred)"
   ]
  },
  {
   "cell_type": "code",
   "execution_count": null,
   "id": "26b226ad",
   "metadata": {},
   "outputs": [],
   "source": []
  }
 ],
 "metadata": {
  "kernelspec": {
   "display_name": "Python 3 (ipykernel)",
   "language": "python",
   "name": "python3"
  },
  "language_info": {
   "codemirror_mode": {
    "name": "ipython",
    "version": 3
   },
   "file_extension": ".py",
   "mimetype": "text/x-python",
   "name": "python",
   "nbconvert_exporter": "python",
   "pygments_lexer": "ipython3",
   "version": "3.9.13"
  }
 },
 "nbformat": 4,
 "nbformat_minor": 5
}
