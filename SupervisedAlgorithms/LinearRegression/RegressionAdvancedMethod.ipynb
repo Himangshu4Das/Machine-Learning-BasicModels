{
 "cells": [
  {
   "cell_type": "markdown",
   "id": "fcc3b07c",
   "metadata": {},
   "source": [
    "This code is an implementation of linear regression using statsmodel.\n",
    "<br>Statsmodel package gives detailed insight of the regression.\n",
    "\n",
    "> For more info. on linear regression read the markdowns from other python files in the directory."
   ]
  },
  {
   "cell_type": "code",
   "execution_count": 12,
   "id": "42104ac1",
   "metadata": {},
   "outputs": [],
   "source": [
    "import numpy as np\n",
    "import statsmodels.api as sm"
   ]
  },
  {
   "cell_type": "code",
   "execution_count": 13,
   "id": "3f704df0",
   "metadata": {},
   "outputs": [],
   "source": [
    "# Creating data\n",
    "x = [\n",
    "  [0, 1], [5, 1], [15, 2], [25, 5], [35, 11], [45, 15], [55, 34], [60, 35]\n",
    "]\n",
    "y = [4, 5, 20, 14, 32, 22, 38, 43]\n",
    "x, y = np.array(x), np.array(y)"
   ]
  },
  {
   "cell_type": "markdown",
   "id": "8ef3d898",
   "metadata": {},
   "source": [
    "<b>Note:</b> We need to add a column of 1s if we need to calculate the intercept. This is because statsmodel by default does not account for the intercept"
   ]
  },
  {
   "cell_type": "code",
   "execution_count": 14,
   "id": "3c4f8455",
   "metadata": {},
   "outputs": [
    {
     "name": "stdout",
     "output_type": "stream",
     "text": [
      "[[ 1.  0.  1.]\n",
      " [ 1.  5.  1.]\n",
      " [ 1. 15.  2.]\n",
      " [ 1. 25.  5.]\n",
      " [ 1. 35. 11.]\n",
      " [ 1. 45. 15.]\n",
      " [ 1. 55. 34.]\n",
      " [ 1. 60. 35.]]\n"
     ]
    }
   ],
   "source": [
    "x = sm.add_constant(x)\n",
    "print(x)"
   ]
  },
  {
   "cell_type": "code",
   "execution_count": 15,
   "id": "bc5210f4",
   "metadata": {},
   "outputs": [],
   "source": [
    "# This model uses Ordinary Least Squares\n",
    "\n",
    "# Fit model\n",
    "model = sm.OLS(y, x)\n",
    "\n",
    "# Apply model\n",
    "results = model.fit()"
   ]
  },
  {
   "cell_type": "code",
   "execution_count": 16,
   "id": "c8c70b47",
   "metadata": {},
   "outputs": [
    {
     "name": "stdout",
     "output_type": "stream",
     "text": [
      "                            OLS Regression Results                            \n",
      "==============================================================================\n",
      "Dep. Variable:                      y   R-squared:                       0.862\n",
      "Model:                            OLS   Adj. R-squared:                  0.806\n",
      "Method:                 Least Squares   F-statistic:                     15.56\n",
      "Date:                Fri, 14 Apr 2023   Prob (F-statistic):            0.00713\n",
      "Time:                        03:02:06   Log-Likelihood:                -24.316\n",
      "No. Observations:                   8   AIC:                             54.63\n",
      "Df Residuals:                       5   BIC:                             54.87\n",
      "Df Model:                           2                                         \n",
      "Covariance Type:            nonrobust                                         \n",
      "==============================================================================\n",
      "                 coef    std err          t      P>|t|      [0.025      0.975]\n",
      "------------------------------------------------------------------------------\n",
      "const          5.5226      4.431      1.246      0.268      -5.867      16.912\n",
      "x1             0.4471      0.285      1.567      0.178      -0.286       1.180\n",
      "x2             0.2550      0.453      0.563      0.598      -0.910       1.420\n",
      "==============================================================================\n",
      "Omnibus:                        0.561   Durbin-Watson:                   3.268\n",
      "Prob(Omnibus):                  0.755   Jarque-Bera (JB):                0.534\n",
      "Skew:                           0.380   Prob(JB):                        0.766\n",
      "Kurtosis:                       1.987   Cond. No.                         80.1\n",
      "==============================================================================\n",
      "\n",
      "Notes:\n",
      "[1] Standard Errors assume that the covariance matrix of the errors is correctly specified.\n"
     ]
    },
    {
     "name": "stderr",
     "output_type": "stream",
     "text": [
      "C:\\ProgramData\\Anaconda3\\lib\\site-packages\\scipy\\stats\\_stats_py.py:1769: UserWarning: kurtosistest only valid for n>=20 ... continuing anyway, n=8\n",
      "  warnings.warn(\"kurtosistest only valid for n>=20 ... continuing \"\n"
     ]
    }
   ],
   "source": [
    "# Print detailed report\n",
    "print(results.summary())"
   ]
  },
  {
   "cell_type": "markdown",
   "id": "a928f950",
   "metadata": {},
   "source": [
    "Extracting values from the report"
   ]
  },
  {
   "cell_type": "code",
   "execution_count": 17,
   "id": "abd77560",
   "metadata": {},
   "outputs": [
    {
     "name": "stdout",
     "output_type": "stream",
     "text": [
      "coefficient of determination: 0.8615939258756776\n",
      "adjusted coefficient of determination: 0.8062314962259487\n",
      "regression coefficients: [5.52257928 0.44706965 0.25502548]\n"
     ]
    }
   ],
   "source": [
    "print(f\"coefficient of determination: {results.rsquared}\")\n",
    "\n",
    "print(f\"adjusted coefficient of determination: {results.rsquared_adj}\")\n",
    "\n",
    "print(f\"regression coefficients: {results.params}\")"
   ]
  },
  {
   "cell_type": "code",
   "execution_count": 18,
   "id": "d0b16787",
   "metadata": {},
   "outputs": [
    {
     "name": "stdout",
     "output_type": "stream",
     "text": [
      "predicted response:\n",
      "[ 5.77760476  8.012953   12.73867497 17.9744479  23.97529728 29.4660957\n",
      " 38.78227633 41.27265006]\n",
      "\n",
      "predicted response:\n",
      "[ 5.77760476  8.012953   12.73867497 17.9744479  23.97529728 29.4660957\n",
      " 38.78227633 41.27265006]\n"
     ]
    }
   ],
   "source": [
    "# Predict\n",
    "print(f\"predicted response:\\n{results.fittedvalues}\")\n",
    "\n",
    "# Alternatively\n",
    "print(f\"\\npredicted response:\\n{results.predict(x)}\")"
   ]
  },
  {
   "cell_type": "code",
   "execution_count": 19,
   "id": "95fe9435",
   "metadata": {},
   "outputs": [
    {
     "name": "stdout",
     "output_type": "stream",
     "text": [
      "[ 5.77760476  7.18179502  8.58598528  9.99017554 11.3943658 ]\n"
     ]
    }
   ],
   "source": [
    "# Predict using new test set\n",
    "x_new = sm.add_constant(np.arange(10).reshape((-1, 2)))\n",
    "y_new = results.predict(x_new)\n",
    "print(y_new)"
   ]
  },
  {
   "cell_type": "code",
   "execution_count": null,
   "id": "4ba774ce",
   "metadata": {},
   "outputs": [],
   "source": []
  },
  {
   "cell_type": "code",
   "execution_count": null,
   "id": "912f41a3",
   "metadata": {},
   "outputs": [],
   "source": []
  },
  {
   "cell_type": "code",
   "execution_count": null,
   "id": "3f02a180",
   "metadata": {},
   "outputs": [],
   "source": []
  }
 ],
 "metadata": {
  "kernelspec": {
   "display_name": "Python 3 (ipykernel)",
   "language": "python",
   "name": "python3"
  },
  "language_info": {
   "codemirror_mode": {
    "name": "ipython",
    "version": 3
   },
   "file_extension": ".py",
   "mimetype": "text/x-python",
   "name": "python",
   "nbconvert_exporter": "python",
   "pygments_lexer": "ipython3",
   "version": "3.9.13"
  }
 },
 "nbformat": 4,
 "nbformat_minor": 5
}
